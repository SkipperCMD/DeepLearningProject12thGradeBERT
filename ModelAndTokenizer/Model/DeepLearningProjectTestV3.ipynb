{
 "cells": [
  {
   "cell_type": "code",
   "execution_count": 7,
   "metadata": {},
   "outputs": [],
   "source": [
    "#Basics\n",
    "import os\n",
    "import io\n",
    "import re\n",
    "import string\n",
    "from tqdm import tqdm\n",
    "import numpy as np\n",
    "\n",
    "#torch libraries\n",
    "import torch\n",
    "from torch import cuda\n",
    "\n",
    "#Time related libraries\n",
    "import datetime\n",
    "from timeit import default_timer as timer\n",
    "\n",
    "#General libraries\n",
    "import collections\n",
    "import math\n",
    "import random\n",
    "import matplotlib as mpl\n",
    "import matplotlib.pyplot as plt\n",
    "\n",
    "#Dealing with files, data and general stuff\n",
    "import zipfile\n",
    "import pandas as pd\n",
    "\n",
    "#May be used but very unlikely.\n",
    "from subprocess import check_output\n",
    "from wordcloud import WordCloud, STOPWORDS\n",
    "from numba import jit, cuda #Former way of GPU acceleration in my project.\n",
    "\n",
    "#Transformers Library. Taken from \"Hugging Face\".\n",
    "from transformers import BertConfig, BertModel, BertTokenizer, BertForMaskedLM, BertTokenizerFast, AutoTokenizer, pipeline\n",
    "from tokenizers import BertWordPieceTokenizer\n",
    "from tokenizers.processors import BertProcessing\n",
    "\n",
    "#Optimizers taken from the \"Transformers\" Library that I have mentioned above as well.\n",
    "from transformers import AdamW"
   ]
  },
  {
   "cell_type": "code",
   "execution_count": 8,
   "metadata": {},
   "outputs": [],
   "source": [
    "#Loading The Tokenizer & Model From The HuggingFace Database.\n",
    "Tokenizer = AutoTokenizer.from_pretrained(\"Seraphiive/bert-personalized-PreAlpha-uncased\") \n",
    "Model = BertForMaskedLM.from_pretrained(\"Seraphiive/bert-personalized-PreAlpha-uncased\")"
   ]
  },
  {
   "cell_type": "code",
   "execution_count": 9,
   "metadata": {},
   "outputs": [],
   "source": [
    "#Setting up the pipeline for a more elaborated report on the possible predictions for the word.\n",
    "pipe = pipeline('fill-mask', model=Model, tokenizer=Tokenizer)"
   ]
  },
  {
   "cell_type": "code",
   "execution_count": 10,
   "metadata": {},
   "outputs": [],
   "source": [
    "#Change the string below to whatever sentence you would like to be used for testing.\n",
    "ExampleSentence = \"How [MASK] you doing?\""
   ]
  },
  {
   "cell_type": "code",
   "execution_count": 11,
   "metadata": {},
   "outputs": [
    {
     "name": "stdout",
     "output_type": "stream",
     "text": [
      "are\n"
     ]
    }
   ],
   "source": [
    "inputs = Tokenizer(ExampleSentence, return_tensors=\"pt\") #Tokenizing the sentence after modifications.\n",
    "\n",
    "with torch.no_grad():\n",
    "    logits = Model(**inputs).logits\n",
    "        #Using the Model to get the \"raw prediction vector\" which will be passed to the softmax function when predicting the missing word.\n",
    "\n",
    "mask_token_index = (inputs.input_ids == Tokenizer.mask_token_id)[0].nonzero(as_tuple=True)[0] #Retrieving the index of the [MASK]\n",
    "\n",
    "predicted_token_id = logits[0, mask_token_index].argmax(axis=-1)\n",
    "PredWord = Tokenizer.decode(predicted_token_id)\n",
    "\n",
    "print(PredWord) #Prints the missing word that was predicted by the model."
   ]
  },
  {
   "cell_type": "code",
   "execution_count": 12,
   "metadata": {},
   "outputs": [
    {
     "data": {
      "text/plain": [
       "[{'score': 0.21366684138774872,\n",
       "  'token': 309,\n",
       "  'token_str': 'are',\n",
       "  'sequence': 'how are you doing?'},\n",
       " {'score': 0.14240136742591858,\n",
       "  'token': 215,\n",
       "  'token_str': 'is',\n",
       "  'sequence': 'how is you doing?'},\n",
       " {'score': 0.09299653768539429,\n",
       "  'token': 287,\n",
       "  'token_str': 'about',\n",
       "  'sequence': 'how about you doing?'},\n",
       " {'score': 0.07042302936315536,\n",
       "  'token': 179,\n",
       "  'token_str': 'do',\n",
       "  'sequence': 'how do you doing?'},\n",
       " {'score': 0.04870709031820297,\n",
       "  'token': 142,\n",
       "  'token_str': 'was',\n",
       "  'sequence': 'how was you doing?'}]"
      ]
     },
     "execution_count": 12,
     "metadata": {},
     "output_type": "execute_result"
    }
   ],
   "source": [
    "#Below, write the same sentence that was provided to the \"ExampleSentence\" only this time, replace the [MASK] with {pipe.tokenizer.mask_token} in order to receive the closest words in prediction after the predicted word.\n",
    "pipe(f'How {pipe.tokenizer.mask_token} you doing?') "
   ]
  }
 ],
 "metadata": {
  "kernelspec": {
   "display_name": "Python 3",
   "language": "python",
   "name": "python3"
  },
  "language_info": {
   "codemirror_mode": {
    "name": "ipython",
    "version": 3
   },
   "file_extension": ".py",
   "mimetype": "text/x-python",
   "name": "python",
   "nbconvert_exporter": "python",
   "pygments_lexer": "ipython3",
   "version": "3.10.6"
  },
  "orig_nbformat": 4
 },
 "nbformat": 4,
 "nbformat_minor": 2
}
