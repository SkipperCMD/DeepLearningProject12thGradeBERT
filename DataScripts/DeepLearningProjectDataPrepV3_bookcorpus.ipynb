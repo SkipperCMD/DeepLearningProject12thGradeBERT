{
  "cells": [
    {
      "cell_type": "code",
      "execution_count": null,
      "metadata": {
        "id": "cdJPateTfyK4"
      },
      "outputs": [],
      "source": [
        "from datasets import load_dataset_builder\n",
        "ds_builder = load_dataset_builder('bookcorpus')"
      ]
    },
    {
      "cell_type": "code",
      "execution_count": null,
      "metadata": {
        "id": "J48hfc6ufyK8",
        "outputId": "1405a28a-7fa6-448e-ecfd-c1d6f392977f"
      },
      "outputs": [
        {
          "data": {
            "text/plain": [
              "'Books are a rich source of both fine-grained information, how a character, an object or a scene looks like, as well as high-level semantics, what someone is thinking, feeling and how these states evolve through a story.This work aims to align books to their movie releases in order to providerich descriptive explanations for visual content that go semantically farbeyond the captions available in current datasets. '"
            ]
          },
          "execution_count": 6,
          "metadata": {},
          "output_type": "execute_result"
        }
      ],
      "source": [
        "ds_builder.info.description"
      ]
    },
    {
      "cell_type": "code",
      "execution_count": null,
      "metadata": {
        "id": "p1frxoCRfyK-",
        "outputId": "7cf972dd-b044-45c1-eb60-888b7c4fd5dd"
      },
      "outputs": [
        {
          "data": {
            "text/plain": [
              "{'text': Value(dtype='string', id=None)}"
            ]
          },
          "execution_count": 7,
          "metadata": {},
          "output_type": "execute_result"
        }
      ],
      "source": [
        "ds_builder.info.features"
      ]
    },
    {
      "cell_type": "code",
      "execution_count": null,
      "metadata": {
        "id": "lpep03lKfyK_"
      },
      "outputs": [],
      "source": [
        "from datasets import load_dataset"
      ]
    },
    {
      "cell_type": "code",
      "execution_count": null,
      "metadata": {
        "id": "T8I5SoO7fyLA",
        "outputId": "086545a3-dd0f-4397-f3e3-6936ec603176",
        "colab": {
          "referenced_widgets": [
            "a2600e9bab7e4a059c7e1b28ae9302a3",
            "30b699791cd3495db48f680a0ccdfaff",
            "93db54a71ba5437bbd2c83e9933e38f4"
          ]
        }
      },
      "outputs": [
        {
          "name": "stdout",
          "output_type": "stream",
          "text": [
            "Downloading and preparing dataset bookcorpus/plain_text to C:/Users/Cthulhu/.cache/huggingface/datasets/bookcorpus/plain_text/1.0.0/eddee3cae1cc263a431aa98207d4d27fd8a73b0a9742f692af0e6c65afa4d75f...\n"
          ]
        },
        {
          "data": {
            "application/vnd.jupyter.widget-view+json": {
              "model_id": "a2600e9bab7e4a059c7e1b28ae9302a3",
              "version_major": 2,
              "version_minor": 0
            },
            "text/plain": [
              "Downloading data:   0%|          | 0.00/1.18G [00:00<?, ?B/s]"
            ]
          },
          "metadata": {},
          "output_type": "display_data"
        },
        {
          "data": {
            "application/vnd.jupyter.widget-view+json": {
              "model_id": "30b699791cd3495db48f680a0ccdfaff",
              "version_major": 2,
              "version_minor": 0
            },
            "text/plain": [
              "Generating train split:   0%|          | 0/74004228 [00:00<?, ? examples/s]"
            ]
          },
          "metadata": {},
          "output_type": "display_data"
        },
        {
          "name": "stdout",
          "output_type": "stream",
          "text": [
            "Dataset bookcorpus downloaded and prepared to C:/Users/Cthulhu/.cache/huggingface/datasets/bookcorpus/plain_text/1.0.0/eddee3cae1cc263a431aa98207d4d27fd8a73b0a9742f692af0e6c65afa4d75f. Subsequent calls will reuse this data.\n"
          ]
        },
        {
          "data": {
            "application/vnd.jupyter.widget-view+json": {
              "model_id": "93db54a71ba5437bbd2c83e9933e38f4",
              "version_major": 2,
              "version_minor": 0
            },
            "text/plain": [
              "  0%|          | 0/1 [00:00<?, ?it/s]"
            ]
          },
          "metadata": {},
          "output_type": "display_data"
        }
      ],
      "source": [
        "dataset = load_dataset('bookcorpus')"
      ]
    },
    {
      "cell_type": "code",
      "execution_count": null,
      "metadata": {
        "id": "Jixz8LFrfyLA",
        "outputId": "b30f23d7-0032-4466-f26e-e7cf23010b28"
      },
      "outputs": [
        {
          "data": {
            "text/plain": [
              "DatasetDict({\n",
              "    train: Dataset({\n",
              "        features: ['text'],\n",
              "        num_rows: 74004228\n",
              "    })\n",
              "})"
            ]
          },
          "execution_count": 10,
          "metadata": {},
          "output_type": "execute_result"
        }
      ],
      "source": [
        "dataset"
      ]
    },
    {
      "cell_type": "code",
      "execution_count": null,
      "metadata": {
        "id": "k7uNcinNfyLB",
        "outputId": "3d97301e-c0fb-4541-ecb5-ed58a72df885",
        "colab": {
          "referenced_widgets": [
            "e4434d06ae4e4e12be0041bb562eec56"
          ]
        }
      },
      "outputs": [
        {
          "data": {
            "application/vnd.jupyter.widget-view+json": {
              "model_id": "e4434d06ae4e4e12be0041bb562eec56",
              "version_major": 2,
              "version_minor": 0
            },
            "text/plain": [
              "  0%|          | 0/74004228 [00:00<?, ?it/s]"
            ]
          },
          "metadata": {},
          "output_type": "display_data"
        }
      ],
      "source": [
        "from tqdm.auto import tqdm\n",
        "\n",
        "data = []\n",
        "count = 0\n",
        "#times = int(dataset['train'].num_rows / 100_000)\n",
        "\n",
        "for textLine in tqdm(dataset['train']):\n",
        "    textLine = textLine['text'].replace('\\n', '')\n",
        "    data.append(textLine)\n",
        "    if len(data) == 100_000:\n",
        "        with open(f'G:/VisualStudioCodeG/Resources/DataTestHuggingFace/bookcorpusA/text_{count}.txt', 'w', encoding='utf-8') as filepath:\n",
        "            filepath.write('\\n'.join(data))\n",
        "        data = []\n",
        "        count += 1\n",
        "\n",
        "with open(f'G:/VisualStudioCodeG/Resources/DataTestHuggingFace/bookcorpusA/text_{count}.txt', 'w', encoding='utf-8') as filepath:\n",
        "    filepath.write('\\n'.join(data))"
      ]
    }
  ],
  "metadata": {
    "kernelspec": {
      "display_name": "Python 3",
      "language": "python",
      "name": "python3"
    },
    "language_info": {
      "codemirror_mode": {
        "name": "ipython",
        "version": 3
      },
      "file_extension": ".py",
      "mimetype": "text/x-python",
      "name": "python",
      "nbconvert_exporter": "python",
      "pygments_lexer": "ipython3",
      "version": "3.10.6"
    },
    "orig_nbformat": 4,
    "colab": {
      "provenance": []
    }
  },
  "nbformat": 4,
  "nbformat_minor": 0
}